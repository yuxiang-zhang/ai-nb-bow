{
 "cells": [
  {
   "cell_type": "code",
   "execution_count": 1,
   "metadata": {
    "cell_id": "00000-0f7436e4-b0c8-4e88-a744-8147a646d556",
    "deepnote_cell_type": "code",
    "execution_millis": 8,
    "execution_start": 1607566386612,
    "output_cleared": false,
    "source_hash": "c76c7c51",
    "tags": []
   },
   "outputs": [],
   "source": [
    "import pandas as pd\n",
    "import numpy as np"
   ]
  },
  {
   "cell_type": "markdown",
   "metadata": {
    "cell_id": "00002-21a35e2b-224a-44c0-99b5-e7b915db2aa7",
    "deepnote_cell_type": "markdown",
    "output_cleared": false,
    "tags": []
   },
   "source": [
    "# Load Training Data"
   ]
  },
  {
   "cell_type": "code",
   "execution_count": 2,
   "metadata": {
    "cell_id": "00001-17674094-f541-439b-ba6b-9172bd58a1db",
    "deepnote_cell_type": "code",
    "execution_millis": 52,
    "execution_start": 1607566386622,
    "output_cleared": false,
    "source_hash": "8b43dabf",
    "tags": []
   },
   "outputs": [
    {
     "data": {
      "text/html": [
       "<div>\n",
       "<style scoped>\n",
       "    .dataframe tbody tr th:only-of-type {\n",
       "        vertical-align: middle;\n",
       "    }\n",
       "\n",
       "    .dataframe tbody tr th {\n",
       "        vertical-align: top;\n",
       "    }\n",
       "\n",
       "    .dataframe thead th {\n",
       "        text-align: right;\n",
       "    }\n",
       "</style>\n",
       "<table border=\"1\" class=\"dataframe\">\n",
       "  <thead>\n",
       "    <tr style=\"text-align: right;\">\n",
       "      <th></th>\n",
       "      <th>tweet_id</th>\n",
       "      <th>text</th>\n",
       "      <th>q1_label</th>\n",
       "    </tr>\n",
       "  </thead>\n",
       "  <tbody>\n",
       "    <tr>\n",
       "      <th>0</th>\n",
       "      <td>1241025578527903750</td>\n",
       "      <td>For the average American the best way to tell ...</td>\n",
       "      <td>no</td>\n",
       "    </tr>\n",
       "    <tr>\n",
       "      <th>1</th>\n",
       "      <td>1240467080954228737</td>\n",
       "      <td>this is fucking bullshit</td>\n",
       "      <td>no</td>\n",
       "    </tr>\n",
       "    <tr>\n",
       "      <th>2</th>\n",
       "      <td>1240716889162018816</td>\n",
       "      <td>Can y’all please just follow the government’s ...</td>\n",
       "      <td>no</td>\n",
       "    </tr>\n",
       "    <tr>\n",
       "      <th>3</th>\n",
       "      <td>1241062514886090754</td>\n",
       "      <td>No offense but the corona virus disappearing b...</td>\n",
       "      <td>no</td>\n",
       "    </tr>\n",
       "    <tr>\n",
       "      <th>4</th>\n",
       "      <td>1241447017945223169</td>\n",
       "      <td>This is the face of someone who just spent 9 h...</td>\n",
       "      <td>yes</td>\n",
       "    </tr>\n",
       "  </tbody>\n",
       "</table>\n",
       "</div>"
      ],
      "text/plain": [
       "              tweet_id                                               text  \\\n",
       "0  1241025578527903750  For the average American the best way to tell ...   \n",
       "1  1240467080954228737                           this is fucking bullshit   \n",
       "2  1240716889162018816  Can y’all please just follow the government’s ...   \n",
       "3  1241062514886090754  No offense but the corona virus disappearing b...   \n",
       "4  1241447017945223169  This is the face of someone who just spent 9 h...   \n",
       "\n",
       "  q1_label  \n",
       "0       no  \n",
       "1       no  \n",
       "2       no  \n",
       "3       no  \n",
       "4      yes  "
      ]
     },
     "execution_count": 2,
     "metadata": {},
     "output_type": "execute_result"
    }
   ],
   "source": [
    "training_file = '../data/covid_training.tsv'\n",
    "train_df = pd.read_csv(training_file, sep='\\t', usecols=[0,1,2])\n",
    "train_df.head()"
   ]
  },
  {
   "cell_type": "code",
   "execution_count": 3,
   "metadata": {
    "cell_id": "00002-de792fbf-2a42-4efa-b0e7-7f1f75a83ae8",
    "deepnote_cell_type": "code",
    "execution_millis": 5,
    "execution_start": 1607566386692,
    "output_cleared": false,
    "source_hash": "f820805a",
    "tags": []
   },
   "outputs": [
    {
     "data": {
      "text/plain": [
       "tweet_id\n",
       "1241025578527903750    [for, the, average, american, the, best, way, ...\n",
       "1240467080954228737                        [this, is, fucking, bullshit]\n",
       "1240716889162018816    [can, y’all, please, just, follow, the, govern...\n",
       "1241062514886090754    [no, offense, but, the, corona, virus, disappe...\n",
       "1241447017945223169    [this, is, the, face, of, someone, who, just, ...\n",
       "                                             ...                        \n",
       "1237310167814791168    [it's, like, suicide, but, minus, the, haram, ...\n",
       "1237460460749766657    [the, first, silicon, valley, death, from, cov...\n",
       "1237068715314892802    [breakthrough:, chloroquine, phosphate, --, an...\n",
       "1237395939171561472    [i, know, everyone, is, freaking, out, about, ...\n",
       "1237404677307760640    [ebola, has, a, 50%, death, rate., if, you, go...\n",
       "Length: 399, dtype: object"
      ]
     },
     "execution_count": 3,
     "metadata": {},
     "output_type": "execute_result"
    }
   ],
   "source": [
    "X_train = pd.Series(train_df['text'].str.lower().str.split().values.copy(), index=train_df['tweet_id'])\n",
    "X_train"
   ]
  },
  {
   "cell_type": "code",
   "execution_count": 4,
   "metadata": {
    "cell_id": "00002-56c38106-82f9-4bba-8965-d58674ce4da1",
    "deepnote_cell_type": "code",
    "execution_millis": 19,
    "execution_start": 1607566386700,
    "output_cleared": false,
    "source_hash": "3cba42a5",
    "tags": []
   },
   "outputs": [
    {
     "name": "stdout",
     "output_type": "stream",
     "text": [
      "{0: 'no', 1: 'yes'}\n"
     ]
    }
   ],
   "source": [
    "y_train = pd.Series(train_df['q1_label'].astype('category').values.copy(), index=train_df['tweet_id'])\n",
    "print(dict(enumerate(y_train.cat.categories)))"
   ]
  },
  {
   "cell_type": "markdown",
   "metadata": {
    "cell_id": "00002-d959c6ec-70c9-46d6-a2b9-6742a522f60e",
    "deepnote_cell_type": "markdown",
    "output_cleared": false,
    "tags": []
   },
   "source": [
    "# Build Model"
   ]
  },
  {
   "cell_type": "code",
   "execution_count": 5,
   "metadata": {
    "cell_id": "00004-5ce81264-3066-410b-a8b2-28656d17eef1",
    "deepnote_cell_type": "code",
    "execution_millis": 187,
    "execution_start": 1607566386727,
    "output_cleared": false,
    "source_hash": "631a6844",
    "tags": []
   },
   "outputs": [
    {
     "data": {
      "text/plain": [
       "['no', 'yes']\n",
       "Categories (2, object): ['no', 'yes']"
      ]
     },
     "execution_count": 5,
     "metadata": {},
     "output_type": "execute_result"
    }
   ],
   "source": [
    "CLASSES = y_train.unique()\n",
    "CLASSES"
   ]
  },
  {
   "cell_type": "markdown",
   "metadata": {
    "cell_id": "00006-7631e98b-3264-4f96-8cb4-990c3651814b",
    "deepnote_cell_type": "markdown",
    "output_cleared": false,
    "tags": []
   },
   "source": [
    "## Build Vector Space Representation"
   ]
  },
  {
   "cell_type": "code",
   "execution_count": 6,
   "metadata": {
    "cell_id": "00007-098b2137-5c14-4bb8-83b7-7dcb087e4369",
    "deepnote_cell_type": "code",
    "execution_millis": 595,
    "execution_start": 1607566386987,
    "output_cleared": false,
    "source_hash": "c7534d19",
    "tags": []
   },
   "outputs": [
    {
     "data": {
      "text/html": [
       "<div>\n",
       "<style scoped>\n",
       "    .dataframe tbody tr th:only-of-type {\n",
       "        vertical-align: middle;\n",
       "    }\n",
       "\n",
       "    .dataframe tbody tr th {\n",
       "        vertical-align: top;\n",
       "    }\n",
       "\n",
       "    .dataframe thead th {\n",
       "        text-align: right;\n",
       "    }\n",
       "</style>\n",
       "<table border=\"1\" class=\"dataframe\">\n",
       "  <thead>\n",
       "    <tr style=\"text-align: right;\">\n",
       "      <th></th>\n",
       "      <th>obviously</th>\n",
       "      <th>ebolaâbut</th>\n",
       "      <th>34x</th>\n",
       "      <th>https://t.co/bcyoeedray</th>\n",
       "      <th>https://t.co/ga2rdghpiq</th>\n",
       "    </tr>\n",
       "    <tr>\n",
       "      <th>tweet_id</th>\n",
       "      <th></th>\n",
       "      <th></th>\n",
       "      <th></th>\n",
       "      <th></th>\n",
       "      <th></th>\n",
       "    </tr>\n",
       "  </thead>\n",
       "  <tbody>\n",
       "    <tr>\n",
       "      <th>1241025578527903750</th>\n",
       "      <td>0.0</td>\n",
       "      <td>0.0</td>\n",
       "      <td>0.0</td>\n",
       "      <td>0.0</td>\n",
       "      <td>0.0</td>\n",
       "    </tr>\n",
       "    <tr>\n",
       "      <th>1240467080954228737</th>\n",
       "      <td>0.0</td>\n",
       "      <td>0.0</td>\n",
       "      <td>0.0</td>\n",
       "      <td>0.0</td>\n",
       "      <td>0.0</td>\n",
       "    </tr>\n",
       "    <tr>\n",
       "      <th>1240716889162018816</th>\n",
       "      <td>0.0</td>\n",
       "      <td>0.0</td>\n",
       "      <td>0.0</td>\n",
       "      <td>0.0</td>\n",
       "      <td>0.0</td>\n",
       "    </tr>\n",
       "    <tr>\n",
       "      <th>1241062514886090754</th>\n",
       "      <td>0.0</td>\n",
       "      <td>0.0</td>\n",
       "      <td>0.0</td>\n",
       "      <td>0.0</td>\n",
       "      <td>0.0</td>\n",
       "    </tr>\n",
       "    <tr>\n",
       "      <th>1241447017945223169</th>\n",
       "      <td>0.0</td>\n",
       "      <td>0.0</td>\n",
       "      <td>0.0</td>\n",
       "      <td>0.0</td>\n",
       "      <td>0.0</td>\n",
       "    </tr>\n",
       "  </tbody>\n",
       "</table>\n",
       "</div>"
      ],
      "text/plain": [
       "                     obviously  ebolaâbut  34x  https://t.co/bcyoeedray  \\\n",
       "tweet_id                                                                    \n",
       "1241025578527903750        0.0          0.0  0.0                      0.0   \n",
       "1240467080954228737        0.0          0.0  0.0                      0.0   \n",
       "1240716889162018816        0.0          0.0  0.0                      0.0   \n",
       "1241062514886090754        0.0          0.0  0.0                      0.0   \n",
       "1241447017945223169        0.0          0.0  0.0                      0.0   \n",
       "\n",
       "                     https://t.co/ga2rdghpiq  \n",
       "tweet_id                                      \n",
       "1241025578527903750                      0.0  \n",
       "1240467080954228737                      0.0  \n",
       "1240716889162018816                      0.0  \n",
       "1241062514886090754                      0.0  \n",
       "1241447017945223169                      0.0  "
      ]
     },
     "execution_count": 6,
     "metadata": {},
     "output_type": "execute_result"
    }
   ],
   "source": [
    "from collections import Counter\n",
    "vec_space_df = pd.DataFrame(X_train.apply(Counter).tolist(), index=X_train.index).fillna(0)\n",
    "vec_space_df.iloc[:5,-5:]"
   ]
  },
  {
   "cell_type": "markdown",
   "metadata": {
    "cell_id": "00011-5395f15d-f0de-41a1-859d-84f1b41d89a6",
    "deepnote_cell_type": "markdown",
    "output_cleared": false,
    "tags": []
   },
   "source": [
    "## Class Probability"
   ]
  },
  {
   "cell_type": "code",
   "execution_count": 7,
   "metadata": {
    "cell_id": "00012-7fc43561-58f4-4471-83d8-128fd5441f9b",
    "deepnote_cell_type": "code",
    "execution_millis": 6,
    "execution_start": 1607566387626,
    "output_cleared": false,
    "source_hash": "3fa26d35",
    "tags": []
   },
   "outputs": [],
   "source": [
    "class_log_proba = np.log10((y_train.value_counts()/len(y_train)))"
   ]
  },
  {
   "cell_type": "markdown",
   "metadata": {
    "cell_id": "00013-092aaf53-c4c5-40cd-8541-2d175d7fccb1",
    "deepnote_cell_type": "markdown",
    "output_cleared": false,
    "tags": []
   },
   "source": [
    "## Vocabulary Probability"
   ]
  },
  {
   "cell_type": "code",
   "execution_count": 8,
   "metadata": {},
   "outputs": [],
   "source": [
    "# P(w | c) = freq / total\n",
    "ov_word_freqs = pd.DataFrame(dtype=np.float64)\n",
    "ov_word_totals = pd.Series(dtype=np.float64)"
   ]
  },
  {
   "cell_type": "code",
   "execution_count": 9,
   "metadata": {},
   "outputs": [],
   "source": [
    "fv_word_freqs = pd.DataFrame(dtype=np.float64)\n",
    "fv_word_totals = pd.Series(dtype=np.float64)"
   ]
  },
  {
   "cell_type": "markdown",
   "metadata": {
    "cell_id": "00011-26e17033-db5d-4ed1-9635-9687641efb6c",
    "deepnote_cell_type": "markdown",
    "output_cleared": false,
    "tags": []
   },
   "source": [
    "### Count Words"
   ]
  },
  {
   "cell_type": "code",
   "execution_count": 10,
   "metadata": {
    "cell_id": "00008-42b6b335-cd2b-47b7-a2bf-cb817c75bcf1",
    "deepnote_cell_type": "code",
    "execution_millis": 32,
    "execution_start": 1607566387631,
    "output_cleared": false,
    "source_hash": "9130d032",
    "tags": []
   },
   "outputs": [
    {
     "name": "stdout",
     "output_type": "stream",
     "text": [
      "                            no    yes\n",
      "for                       34.0   90.0\n",
      "the                      132.0  321.0\n",
      "average                    1.0    0.0\n",
      "american                   4.0    7.0\n",
      "best                       4.0    2.0\n",
      "...                        ...    ...\n",
      "obviously                  0.0    1.0\n",
      "ebolaâbut                0.0    1.0\n",
      "34x                        0.0    1.0\n",
      "https://t.co/bcyoeedray    0.0    1.0\n",
      "https://t.co/ga2rdghpiq    0.0    1.0\n",
      "\n",
      "[4304 rows x 2 columns]\n",
      "no     3741.0\n",
      "yes    8844.0\n",
      "dtype: float64\n"
     ]
    }
   ],
   "source": [
    "for c in CLASSES:\n",
    "    # frequency per class c = sum all rows where target is c\n",
    "    ov_word_freqs[c] = vec_space_df[y_train==c].sum()\n",
    "    # total per class = sum all word freqs where target is c\n",
    "    ov_word_totals[c] = ov_word_freqs[c].sum()\n",
    "print(ov_word_freqs)\n",
    "print(ov_word_totals)"
   ]
  },
  {
   "cell_type": "code",
   "execution_count": 11,
   "metadata": {},
   "outputs": [
    {
     "name": "stdout",
     "output_type": "stream",
     "text": [
      "                no    yes\n",
      "for           34.0   90.0\n",
      "the          132.0  321.0\n",
      "american       4.0    7.0\n",
      "best           4.0    2.0\n",
      "way            5.0    6.0\n",
      "...            ...    ...\n",
      "ng             0.0    2.0\n",
      "na             0.0    2.0\n",
      "60s.           0.0    2.0\n",
      "chloroquine    0.0    2.0\n",
      "rate.          0.0    2.0\n",
      "\n",
      "[1193 rows x 2 columns]\n",
      "no     2833.0\n",
      "yes    6641.0\n",
      "dtype: float64\n"
     ]
    }
   ],
   "source": [
    "mask_less_than_2 = ov_word_freqs.sum(axis=1)>=2\n",
    "fv_word_freqs = ov_word_freqs.loc[mask_less_than_2].copy()\n",
    "print(fv_word_freqs)\n",
    "for c in CLASSES:\n",
    "    fv_word_totals[c] = fv_word_freqs[c].sum()\n",
    "print(fv_word_totals)"
   ]
  },
  {
   "cell_type": "markdown",
   "metadata": {
    "cell_id": "00008-4d44019f-5870-48cb-8ea5-83fef6266958",
    "deepnote_cell_type": "markdown",
    "output_cleared": false,
    "tags": []
   },
   "source": [
    "### Smoothing"
   ]
  },
  {
   "cell_type": "code",
   "execution_count": 12,
   "metadata": {},
   "outputs": [],
   "source": [
    "def smooth(freqs: pd.DataFrame, totals: pd.DataFrame, classes, delta: float):\n",
    "    freqs_ = freqs.copy()\n",
    "    totals_ = totals.copy()\n",
    "    size_vocab = len(freqs_)\n",
    "    for c in classes:\n",
    "        freqs_[c] += delta\n",
    "        totals_[c] += delta * size_vocab\n",
    "    return freqs_, totals_"
   ]
  },
  {
   "cell_type": "code",
   "execution_count": 13,
   "metadata": {
    "cell_id": "00008-1f34c01c-2b61-4bcf-9156-de2a803f44bd",
    "deepnote_cell_type": "code",
    "execution_millis": 2,
    "execution_start": 1607566387756,
    "output_cleared": false,
    "source_hash": "609fa49e",
    "tags": []
   },
   "outputs": [
    {
     "name": "stdout",
     "output_type": "stream",
     "text": [
      "no     0.01\n",
      "yes    0.01\n",
      "dtype: float64\n",
      "no     3784.04\n",
      "yes    8887.04\n",
      "dtype: float64\n"
     ]
    }
   ],
   "source": [
    "delta = 0.01\n",
    "ov_smoothed_freqs, ov_smoothed_totals = smooth(ov_word_freqs, ov_word_totals, CLASSES, delta)\n",
    "fv_smoothed_freqs, fv_smoothed_totals = smooth(fv_word_freqs, fv_word_totals, CLASSES, delta)\n",
    "print(ov_smoothed_freqs.min())\n",
    "print(ov_smoothed_totals)"
   ]
  },
  {
   "cell_type": "markdown",
   "metadata": {
    "cell_id": "00018-91a91759-a584-4713-b2ce-d54f64b95247",
    "deepnote_cell_type": "markdown",
    "output_cleared": false,
    "tags": []
   },
   "source": [
    "### Word Probability"
   ]
  },
  {
   "cell_type": "code",
   "execution_count": 14,
   "metadata": {
    "cell_id": "00018-21760adf-4175-4311-bad7-a83b0c040e8c",
    "deepnote_cell_type": "code",
    "execution_millis": 1,
    "execution_start": 1607566387759,
    "output_cleared": false,
    "source_hash": "c7ae8906",
    "tags": []
   },
   "outputs": [],
   "source": [
    "ov_model = np.log10(ov_smoothed_freqs / ov_smoothed_totals)\n",
    "fv_model = np.log10(fv_smoothed_freqs / fv_smoothed_totals)"
   ]
  },
  {
   "cell_type": "markdown",
   "metadata": {
    "cell_id": "00024-557e5c83-cd9a-4eef-a78f-91fbed030627",
    "deepnote_cell_type": "markdown",
    "output_cleared": false,
    "tags": []
   },
   "source": [
    "# Predict"
   ]
  },
  {
   "cell_type": "markdown",
   "metadata": {},
   "source": [
    "## Define Functions"
   ]
  },
  {
   "cell_type": "markdown",
   "metadata": {},
   "source": [
    "### Trace Files"
   ]
  },
  {
   "cell_type": "code",
   "execution_count": 15,
   "metadata": {},
   "outputs": [],
   "source": [
    "def predict_single(model: pd.DataFrame, class_log_proba: pd.Series, word_list: list):\n",
    "    V = model.index\n",
    "    classes = class_log_proba.index\n",
    "    scores_per_class = {\n",
    "        # key := class c\n",
    "        c : \n",
    "        # val := log(P(class)) + sum of log(w|class) for w in V\n",
    "        class_log_proba[c] + sum([\n",
    "            model.loc[word, c] for word in word_list if word in V\n",
    "        ])\n",
    "        \n",
    "        for c in classes\n",
    "    }\n",
    "    \n",
    "    # class with max score\n",
    "    c = max(scores_per_class, key=scores_per_class.get)\n",
    "    return c, format(scores_per_class[c], '.2E')  # class, score\n",
    "\n",
    "def predict(model: pd.DataFrame, class_log_proba: pd.Series, X):\n",
    "    df = X.apply(lambda x: predict_single(model, class_log_proba, x))\n",
    "    return pd.DataFrame(df.tolist(), index=df.index, columns=['pred', 'score'])\n",
    "\n",
    "def trace_predict(model: pd.DataFrame, class_log_proba: pd.Series, X, y, path):\n",
    "    verdict_mapping = {'verdict':{True:'correct',False:'wrong'}}\n",
    "    \n",
    "    trace_df_ = predict(model, class_log_proba, X)\n",
    "    trace_df_['target'] = y\n",
    "    trace_df_['verdict'] = (trace_df_.target == trace_df_.pred).replace({True:'correct',False:'wrong'})\n",
    "    \n",
    "    np.savetxt(path, trace_df_.reset_index(), delimiter='  ', fmt='%s')\n",
    "    return trace_df_"
   ]
  },
  {
   "cell_type": "markdown",
   "metadata": {},
   "source": [
    "### Overall Evaluation Files"
   ]
  },
  {
   "cell_type": "code",
   "execution_count": 16,
   "metadata": {},
   "outputs": [],
   "source": [
    "CLASSES = ('yes', 'no')\n",
    "def accuracy_score(y_test: pd.Series, y_pred: pd.Series):\n",
    "    count_pred = len(y_pred)\n",
    "    return (y_test == y_pred).value_counts().loc[True] / count_pred\n",
    "\n",
    "def precision_scores(y_test: pd.Series, y_pred: pd.Series):\n",
    "    scores = pd.Series(index=CLASSES, dtype=np.float64)\n",
    "    for c in CLASSES:\n",
    "        select_positive_pred = y_pred == c\n",
    "        count_positive_pred = len(y_pred[select_positive_pred])\n",
    "        scores.loc[c] = (y_test[select_positive_pred] == y_pred[select_positive_pred]).value_counts().loc[True]  / count_positive_pred\n",
    "    return scores\n",
    "\n",
    "def recall_scores(y_test: pd.Series, y_pred: pd.Series):\n",
    "    scores = pd.Series(index=CLASSES, dtype=np.float64)\n",
    "    for c in CLASSES:\n",
    "        select_positive_pred = y_pred == c\n",
    "        select_positive_target = y_test == c\n",
    "        count_positive_target = len(y_pred[select_positive_target])\n",
    "        scores.loc[c] = (y_test[select_positive_pred] == y_pred[select_positive_pred]).value_counts().loc[True]  / count_positive_target\n",
    "    return scores\n",
    "\n",
    "def f1_scores(y_test: pd.Series, y_pred: pd.Series):\n",
    "    prec = precision_scores(y_test, y_pred)\n",
    "    reca = recall_scores(y_test, y_pred)\n",
    "    return 2 * prec * reca / (prec + reca)\n",
    "\n",
    "def eval_model(y_test, y_pred, path):\n",
    "    metrics = [precision_scores, recall_scores, f1_scores]\n",
    "    header = '{:5s}\\t{:5s}\\n'.format(*CLASSES)\n",
    "    fmt = '{:.4f}  {:.4f}\\n'\n",
    "    lines = ['{:.4f}\\n'.format(accuracy_score(y_test, y_pred))] + [fmt.format(*scores(y_test, y_pred).tolist()) for scores in metrics]\n",
    "    with open(path, 'w') as f:\n",
    "        f.writelines(lines)\n",
    "    return ''.join([header] + lines)"
   ]
  },
  {
   "cell_type": "markdown",
   "metadata": {},
   "source": [
    "## Load Test Data"
   ]
  },
  {
   "cell_type": "code",
   "execution_count": 17,
   "metadata": {},
   "outputs": [
    {
     "data": {
      "text/html": [
       "<div>\n",
       "<style scoped>\n",
       "    .dataframe tbody tr th:only-of-type {\n",
       "        vertical-align: middle;\n",
       "    }\n",
       "\n",
       "    .dataframe tbody tr th {\n",
       "        vertical-align: top;\n",
       "    }\n",
       "\n",
       "    .dataframe thead th {\n",
       "        text-align: right;\n",
       "    }\n",
       "</style>\n",
       "<table border=\"1\" class=\"dataframe\">\n",
       "  <thead>\n",
       "    <tr style=\"text-align: right;\">\n",
       "      <th></th>\n",
       "      <th>tweet_id</th>\n",
       "      <th>text</th>\n",
       "      <th>q1_label</th>\n",
       "    </tr>\n",
       "  </thead>\n",
       "  <tbody>\n",
       "    <tr>\n",
       "      <th>0</th>\n",
       "      <td>1236932313642143745</td>\n",
       "      <td>1/ Many of you ask me why I take the COVID-19 ...</td>\n",
       "      <td>no</td>\n",
       "    </tr>\n",
       "    <tr>\n",
       "      <th>1</th>\n",
       "      <td>1236289649737371648</td>\n",
       "      <td>Panic buying and stockpiling of toilet roll co...</td>\n",
       "      <td>yes</td>\n",
       "    </tr>\n",
       "    <tr>\n",
       "      <th>2</th>\n",
       "      <td>1237501242567544835</td>\n",
       "      <td>Everyone can help prevent the spread of #COVID...</td>\n",
       "      <td>no</td>\n",
       "    </tr>\n",
       "    <tr>\n",
       "      <th>3</th>\n",
       "      <td>1237029903112888321</td>\n",
       "      <td>Isa sa pinakamaganda mong maa-ambag about COVI...</td>\n",
       "      <td>no</td>\n",
       "    </tr>\n",
       "    <tr>\n",
       "      <th>4</th>\n",
       "      <td>1237270988334592001</td>\n",
       "      <td>BREAKING: Department of Health announces 11 mo...</td>\n",
       "      <td>yes</td>\n",
       "    </tr>\n",
       "  </tbody>\n",
       "</table>\n",
       "</div>"
      ],
      "text/plain": [
       "              tweet_id                                               text  \\\n",
       "0  1236932313642143745  1/ Many of you ask me why I take the COVID-19 ...   \n",
       "1  1236289649737371648  Panic buying and stockpiling of toilet roll co...   \n",
       "2  1237501242567544835  Everyone can help prevent the spread of #COVID...   \n",
       "3  1237029903112888321  Isa sa pinakamaganda mong maa-ambag about COVI...   \n",
       "4  1237270988334592001  BREAKING: Department of Health announces 11 mo...   \n",
       "\n",
       "  q1_label  \n",
       "0       no  \n",
       "1      yes  \n",
       "2       no  \n",
       "3       no  \n",
       "4      yes  "
      ]
     },
     "execution_count": 17,
     "metadata": {},
     "output_type": "execute_result"
    }
   ],
   "source": [
    "testing_file = '../data/covid_test_public.tsv'\n",
    "test_df = pd.read_csv(testing_file, sep='\\t', usecols=[0,1,2], names=train_df.columns)\n",
    "X_test = pd.Series(test_df['text'].str.lower().str.split().values.copy(), index=test_df['tweet_id'])\n",
    "y_test = pd.Series(test_df['q1_label'].astype('category').values.copy(), index=test_df['tweet_id'])\n",
    "test_df.head()"
   ]
  },
  {
   "cell_type": "markdown",
   "metadata": {},
   "source": [
    "## NB-BOW-OV Outputs"
   ]
  },
  {
   "cell_type": "code",
   "execution_count": 18,
   "metadata": {
    "cell_id": "00024-3d958ee4-691f-4c52-8e7b-b386e552f34c",
    "deepnote_cell_type": "code",
    "execution_millis": 103,
    "execution_start": 1607566387779,
    "output_cleared": false,
    "source_hash": "3a94561c",
    "tags": []
   },
   "outputs": [
    {
     "name": "stdout",
     "output_type": "stream",
     "text": [
      "yes  \tno   \n",
      "0.6727\n",
      "0.6667  0.7000\n",
      "0.9091  0.3182\n",
      "0.7692  0.4375\n",
      "\n"
     ]
    },
    {
     "data": {
      "text/html": [
       "<div>\n",
       "<style scoped>\n",
       "    .dataframe tbody tr th:only-of-type {\n",
       "        vertical-align: middle;\n",
       "    }\n",
       "\n",
       "    .dataframe tbody tr th {\n",
       "        vertical-align: top;\n",
       "    }\n",
       "\n",
       "    .dataframe thead th {\n",
       "        text-align: right;\n",
       "    }\n",
       "</style>\n",
       "<table border=\"1\" class=\"dataframe\">\n",
       "  <thead>\n",
       "    <tr style=\"text-align: right;\">\n",
       "      <th></th>\n",
       "      <th>pred</th>\n",
       "      <th>score</th>\n",
       "      <th>target</th>\n",
       "      <th>verdict</th>\n",
       "    </tr>\n",
       "    <tr>\n",
       "      <th>tweet_id</th>\n",
       "      <th></th>\n",
       "      <th></th>\n",
       "      <th></th>\n",
       "      <th></th>\n",
       "    </tr>\n",
       "  </thead>\n",
       "  <tbody>\n",
       "    <tr>\n",
       "      <th>1236932313642143745</th>\n",
       "      <td>no</td>\n",
       "      <td>-9.33E+01</td>\n",
       "      <td>no</td>\n",
       "      <td>correct</td>\n",
       "    </tr>\n",
       "    <tr>\n",
       "      <th>1236289649737371648</th>\n",
       "      <td>yes</td>\n",
       "      <td>-3.30E+01</td>\n",
       "      <td>yes</td>\n",
       "      <td>correct</td>\n",
       "    </tr>\n",
       "    <tr>\n",
       "      <th>1237501242567544835</th>\n",
       "      <td>yes</td>\n",
       "      <td>-1.05E+02</td>\n",
       "      <td>no</td>\n",
       "      <td>wrong</td>\n",
       "    </tr>\n",
       "    <tr>\n",
       "      <th>1237029903112888321</th>\n",
       "      <td>yes</td>\n",
       "      <td>-6.79E+01</td>\n",
       "      <td>no</td>\n",
       "      <td>wrong</td>\n",
       "    </tr>\n",
       "    <tr>\n",
       "      <th>1237270988334592001</th>\n",
       "      <td>yes</td>\n",
       "      <td>-4.72E+01</td>\n",
       "      <td>yes</td>\n",
       "      <td>correct</td>\n",
       "    </tr>\n",
       "  </tbody>\n",
       "</table>\n",
       "</div>"
      ],
      "text/plain": [
       "                    pred      score target  verdict\n",
       "tweet_id                                           \n",
       "1236932313642143745   no  -9.33E+01     no  correct\n",
       "1236289649737371648  yes  -3.30E+01    yes  correct\n",
       "1237501242567544835  yes  -1.05E+02     no    wrong\n",
       "1237029903112888321  yes  -6.79E+01     no    wrong\n",
       "1237270988334592001  yes  -4.72E+01    yes  correct"
      ]
     },
     "execution_count": 18,
     "metadata": {},
     "output_type": "execute_result"
    }
   ],
   "source": [
    "ov_trace = trace_predict(ov_model, class_log_proba, X_test, y_test, '../out/trace_NB-BOW-OV.txt')\n",
    "print(eval_model(ov_trace.target, ov_trace.pred, '../out/eval_NB-BOW-OV.txt'))\n",
    "ov_trace.head()"
   ]
  },
  {
   "cell_type": "markdown",
   "metadata": {},
   "source": [
    "## NB-BOW-FV Outputs"
   ]
  },
  {
   "cell_type": "code",
   "execution_count": 19,
   "metadata": {
    "cell_id": "00024-3d958ee4-691f-4c52-8e7b-b386e552f34c",
    "deepnote_cell_type": "code",
    "execution_millis": 103,
    "execution_start": 1607566387779,
    "output_cleared": false,
    "source_hash": "3a94561c",
    "tags": []
   },
   "outputs": [
    {
     "name": "stdout",
     "output_type": "stream",
     "text": [
      "yes  \tno   \n",
      "0.7455\n",
      "0.7209  0.8333\n",
      "0.9394  0.4545\n",
      "0.8158  0.5882\n",
      "\n"
     ]
    },
    {
     "data": {
      "text/html": [
       "<div>\n",
       "<style scoped>\n",
       "    .dataframe tbody tr th:only-of-type {\n",
       "        vertical-align: middle;\n",
       "    }\n",
       "\n",
       "    .dataframe tbody tr th {\n",
       "        vertical-align: top;\n",
       "    }\n",
       "\n",
       "    .dataframe thead th {\n",
       "        text-align: right;\n",
       "    }\n",
       "</style>\n",
       "<table border=\"1\" class=\"dataframe\">\n",
       "  <thead>\n",
       "    <tr style=\"text-align: right;\">\n",
       "      <th></th>\n",
       "      <th>pred</th>\n",
       "      <th>score</th>\n",
       "      <th>target</th>\n",
       "      <th>verdict</th>\n",
       "    </tr>\n",
       "    <tr>\n",
       "      <th>tweet_id</th>\n",
       "      <th></th>\n",
       "      <th></th>\n",
       "      <th></th>\n",
       "      <th></th>\n",
       "    </tr>\n",
       "  </thead>\n",
       "  <tbody>\n",
       "    <tr>\n",
       "      <th>1236932313642143745</th>\n",
       "      <td>yes</td>\n",
       "      <td>-7.04E+01</td>\n",
       "      <td>no</td>\n",
       "      <td>wrong</td>\n",
       "    </tr>\n",
       "    <tr>\n",
       "      <th>1236289649737371648</th>\n",
       "      <td>yes</td>\n",
       "      <td>-2.75E+01</td>\n",
       "      <td>yes</td>\n",
       "      <td>correct</td>\n",
       "    </tr>\n",
       "    <tr>\n",
       "      <th>1237501242567544835</th>\n",
       "      <td>yes</td>\n",
       "      <td>-8.90E+01</td>\n",
       "      <td>no</td>\n",
       "      <td>wrong</td>\n",
       "    </tr>\n",
       "    <tr>\n",
       "      <th>1237029903112888321</th>\n",
       "      <td>yes</td>\n",
       "      <td>-6.14E+01</td>\n",
       "      <td>no</td>\n",
       "      <td>wrong</td>\n",
       "    </tr>\n",
       "    <tr>\n",
       "      <th>1237270988334592001</th>\n",
       "      <td>yes</td>\n",
       "      <td>-3.75E+01</td>\n",
       "      <td>yes</td>\n",
       "      <td>correct</td>\n",
       "    </tr>\n",
       "  </tbody>\n",
       "</table>\n",
       "</div>"
      ],
      "text/plain": [
       "                    pred      score target  verdict\n",
       "tweet_id                                           \n",
       "1236932313642143745  yes  -7.04E+01     no    wrong\n",
       "1236289649737371648  yes  -2.75E+01    yes  correct\n",
       "1237501242567544835  yes  -8.90E+01     no    wrong\n",
       "1237029903112888321  yes  -6.14E+01     no    wrong\n",
       "1237270988334592001  yes  -3.75E+01    yes  correct"
      ]
     },
     "execution_count": 19,
     "metadata": {},
     "output_type": "execute_result"
    }
   ],
   "source": [
    "fv_trace = trace_predict(fv_model, class_log_proba, X_test, y_test, '../out/trace_NB-BOW-FV.txt')\n",
    "print(eval_model(fv_trace.target, fv_trace.pred, '../out/eval_NB-BOW-FV.txt'))\n",
    "fv_trace.head()"
   ]
  }
 ],
 "metadata": {
  "deepnote_execution_queue": [],
  "deepnote_notebook_id": "8f09b2e7-2038-4bbc-a7ed-19eebe967e7f",
  "kernelspec": {
   "display_name": "Python 3",
   "language": "python",
   "name": "python3"
  },
  "language_info": {
   "codemirror_mode": {
    "name": "ipython",
    "version": 3
   },
   "file_extension": ".py",
   "mimetype": "text/x-python",
   "name": "python",
   "nbconvert_exporter": "python",
   "pygments_lexer": "ipython3",
   "version": "3.8.6"
  },
  "toc-autonumbering": true,
  "toc-showmarkdowntxt": false
 },
 "nbformat": 4,
 "nbformat_minor": 4
}
