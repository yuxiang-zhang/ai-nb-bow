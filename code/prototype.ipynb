{
 "cells": [
  {
   "cell_type": "code",
   "execution_count": 1,
   "metadata": {
    "cell_id": "00000-0f7436e4-b0c8-4e88-a744-8147a646d556",
    "deepnote_cell_type": "code",
    "execution_millis": 8,
    "execution_start": 1607566386612,
    "output_cleared": false,
    "source_hash": "c76c7c51",
    "tags": []
   },
   "outputs": [],
   "source": [
    "import pandas as pd\n",
    "import numpy as np\n",
    "import matplotlib.pyplot as plt\n",
    "from pathlib import Path"
   ]
  },
  {
   "cell_type": "code",
   "execution_count": 2,
   "metadata": {},
   "outputs": [],
   "source": [
    "# create directory if not exist\n",
    "INPUT_DIR = '../data'\n",
    "OUTPUT_DIR = '../out'\n",
    "IMG_DIR = '../img'\n",
    "assert(Path(INPUT_DIR).is_dir())\n",
    "Path(OUTPUT_DIR).mkdir(parents=True, exist_ok=True)\n",
    "Path(IMG_DIR).mkdir(parents=True, exist_ok=True)"
   ]
  },
  {
   "cell_type": "markdown",
   "metadata": {},
   "source": [
    "# Data"
   ]
  },
  {
   "cell_type": "code",
   "execution_count": 3,
   "metadata": {},
   "outputs": [],
   "source": [
    "def preprocess_texts(texts: pd.Series):\n",
    "    return texts.str.lower().str.split().values.copy()\n",
    "\n",
    "def encode_labels(labels: pd.Series):\n",
    "    return labels.astype('category').values.copy()"
   ]
  },
  {
   "cell_type": "markdown",
   "metadata": {
    "cell_id": "00002-21a35e2b-224a-44c0-99b5-e7b915db2aa7",
    "deepnote_cell_type": "markdown",
    "output_cleared": false,
    "tags": []
   },
   "source": [
    "## Load Training Data"
   ]
  },
  {
   "cell_type": "code",
   "execution_count": 4,
   "metadata": {
    "cell_id": "00001-17674094-f541-439b-ba6b-9172bd58a1db",
    "deepnote_cell_type": "code",
    "execution_millis": 52,
    "execution_start": 1607566386622,
    "output_cleared": false,
    "source_hash": "8b43dabf",
    "tags": []
   },
   "outputs": [
    {
     "data": {
      "text/html": [
       "<div>\n",
       "<style scoped>\n",
       "    .dataframe tbody tr th:only-of-type {\n",
       "        vertical-align: middle;\n",
       "    }\n",
       "\n",
       "    .dataframe tbody tr th {\n",
       "        vertical-align: top;\n",
       "    }\n",
       "\n",
       "    .dataframe thead th {\n",
       "        text-align: right;\n",
       "    }\n",
       "</style>\n",
       "<table border=\"1\" class=\"dataframe\">\n",
       "  <thead>\n",
       "    <tr style=\"text-align: right;\">\n",
       "      <th></th>\n",
       "      <th>tweet_id</th>\n",
       "      <th>text</th>\n",
       "      <th>q1_label</th>\n",
       "    </tr>\n",
       "  </thead>\n",
       "  <tbody>\n",
       "    <tr>\n",
       "      <th>0</th>\n",
       "      <td>1241025578527903750</td>\n",
       "      <td>For the average American the best way to tell ...</td>\n",
       "      <td>no</td>\n",
       "    </tr>\n",
       "    <tr>\n",
       "      <th>1</th>\n",
       "      <td>1240467080954228737</td>\n",
       "      <td>this is fucking bullshit</td>\n",
       "      <td>no</td>\n",
       "    </tr>\n",
       "    <tr>\n",
       "      <th>2</th>\n",
       "      <td>1240716889162018816</td>\n",
       "      <td>Can y’all please just follow the government’s ...</td>\n",
       "      <td>no</td>\n",
       "    </tr>\n",
       "    <tr>\n",
       "      <th>3</th>\n",
       "      <td>1241062514886090754</td>\n",
       "      <td>No offense but the corona virus disappearing b...</td>\n",
       "      <td>no</td>\n",
       "    </tr>\n",
       "    <tr>\n",
       "      <th>4</th>\n",
       "      <td>1241447017945223169</td>\n",
       "      <td>This is the face of someone who just spent 9 h...</td>\n",
       "      <td>yes</td>\n",
       "    </tr>\n",
       "  </tbody>\n",
       "</table>\n",
       "</div>"
      ],
      "text/plain": [
       "              tweet_id                                               text  \\\n",
       "0  1241025578527903750  For the average American the best way to tell ...   \n",
       "1  1240467080954228737                           this is fucking bullshit   \n",
       "2  1240716889162018816  Can y’all please just follow the government’s ...   \n",
       "3  1241062514886090754  No offense but the corona virus disappearing b...   \n",
       "4  1241447017945223169  This is the face of someone who just spent 9 h...   \n",
       "\n",
       "  q1_label  \n",
       "0       no  \n",
       "1       no  \n",
       "2       no  \n",
       "3       no  \n",
       "4      yes  "
      ]
     },
     "execution_count": 4,
     "metadata": {},
     "output_type": "execute_result"
    }
   ],
   "source": [
    "training_file = INPUT_DIR + '/covid_training.tsv'\n",
    "train_df = pd.read_csv(training_file, sep='\\t', usecols=[0,1,2])\n",
    "train_df.head()"
   ]
  },
  {
   "cell_type": "code",
   "execution_count": 5,
   "metadata": {
    "cell_id": "00002-de792fbf-2a42-4efa-b0e7-7f1f75a83ae8",
    "deepnote_cell_type": "code",
    "execution_millis": 5,
    "execution_start": 1607566386692,
    "output_cleared": false,
    "source_hash": "f820805a",
    "tags": []
   },
   "outputs": [
    {
     "data": {
      "text/plain": [
       "tweet_id\n",
       "1241025578527903750    [for, the, average, american, the, best, way, ...\n",
       "1240467080954228737                        [this, is, fucking, bullshit]\n",
       "1240716889162018816    [can, y’all, please, just, follow, the, govern...\n",
       "1241062514886090754    [no, offense, but, the, corona, virus, disappe...\n",
       "1241447017945223169    [this, is, the, face, of, someone, who, just, ...\n",
       "                                             ...                        \n",
       "1237310167814791168    [it's, like, suicide, but, minus, the, haram, ...\n",
       "1237460460749766657    [the, first, silicon, valley, death, from, cov...\n",
       "1237068715314892802    [breakthrough:, chloroquine, phosphate, --, an...\n",
       "1237395939171561472    [i, know, everyone, is, freaking, out, about, ...\n",
       "1237404677307760640    [ebola, has, a, 50%, death, rate., if, you, go...\n",
       "Length: 399, dtype: object"
      ]
     },
     "execution_count": 5,
     "metadata": {},
     "output_type": "execute_result"
    }
   ],
   "source": [
    "X_train = pd.Series(preprocess_texts(train_df.text), index=train_df.tweet_id)\n",
    "X_train"
   ]
  },
  {
   "cell_type": "code",
   "execution_count": 6,
   "metadata": {
    "cell_id": "00002-56c38106-82f9-4bba-8965-d58674ce4da1",
    "deepnote_cell_type": "code",
    "execution_millis": 19,
    "execution_start": 1607566386700,
    "output_cleared": false,
    "source_hash": "3cba42a5",
    "tags": []
   },
   "outputs": [
    {
     "name": "stdout",
     "output_type": "stream",
     "text": [
      "{0: 'no', 1: 'yes'}\n"
     ]
    }
   ],
   "source": [
    "y_train = pd.Series(encode_labels(train_df.q1_label), index=train_df.tweet_id)\n",
    "print(dict(enumerate(y_train.cat.categories)))"
   ]
  },
  {
   "cell_type": "markdown",
   "metadata": {},
   "source": [
    "## Load Test Data"
   ]
  },
  {
   "cell_type": "code",
   "execution_count": 7,
   "metadata": {},
   "outputs": [
    {
     "data": {
      "text/html": [
       "<div>\n",
       "<style scoped>\n",
       "    .dataframe tbody tr th:only-of-type {\n",
       "        vertical-align: middle;\n",
       "    }\n",
       "\n",
       "    .dataframe tbody tr th {\n",
       "        vertical-align: top;\n",
       "    }\n",
       "\n",
       "    .dataframe thead th {\n",
       "        text-align: right;\n",
       "    }\n",
       "</style>\n",
       "<table border=\"1\" class=\"dataframe\">\n",
       "  <thead>\n",
       "    <tr style=\"text-align: right;\">\n",
       "      <th></th>\n",
       "      <th>tweet_id</th>\n",
       "      <th>text</th>\n",
       "      <th>q1_label</th>\n",
       "    </tr>\n",
       "  </thead>\n",
       "  <tbody>\n",
       "    <tr>\n",
       "      <th>0</th>\n",
       "      <td>1236932313642143745</td>\n",
       "      <td>1/ Many of you ask me why I take the COVID-19 ...</td>\n",
       "      <td>no</td>\n",
       "    </tr>\n",
       "    <tr>\n",
       "      <th>1</th>\n",
       "      <td>1236289649737371648</td>\n",
       "      <td>Panic buying and stockpiling of toilet roll co...</td>\n",
       "      <td>yes</td>\n",
       "    </tr>\n",
       "    <tr>\n",
       "      <th>2</th>\n",
       "      <td>1237501242567544835</td>\n",
       "      <td>Everyone can help prevent the spread of #COVID...</td>\n",
       "      <td>no</td>\n",
       "    </tr>\n",
       "    <tr>\n",
       "      <th>3</th>\n",
       "      <td>1237029903112888321</td>\n",
       "      <td>Isa sa pinakamaganda mong maa-ambag about COVI...</td>\n",
       "      <td>no</td>\n",
       "    </tr>\n",
       "    <tr>\n",
       "      <th>4</th>\n",
       "      <td>1237270988334592001</td>\n",
       "      <td>BREAKING: Department of Health announces 11 mo...</td>\n",
       "      <td>yes</td>\n",
       "    </tr>\n",
       "  </tbody>\n",
       "</table>\n",
       "</div>"
      ],
      "text/plain": [
       "              tweet_id                                               text  \\\n",
       "0  1236932313642143745  1/ Many of you ask me why I take the COVID-19 ...   \n",
       "1  1236289649737371648  Panic buying and stockpiling of toilet roll co...   \n",
       "2  1237501242567544835  Everyone can help prevent the spread of #COVID...   \n",
       "3  1237029903112888321  Isa sa pinakamaganda mong maa-ambag about COVI...   \n",
       "4  1237270988334592001  BREAKING: Department of Health announces 11 mo...   \n",
       "\n",
       "  q1_label  \n",
       "0       no  \n",
       "1      yes  \n",
       "2       no  \n",
       "3       no  \n",
       "4      yes  "
      ]
     },
     "execution_count": 7,
     "metadata": {},
     "output_type": "execute_result"
    }
   ],
   "source": [
    "testing_file = INPUT_DIR + '/covid_test_public.tsv'\n",
    "test_df = pd.read_csv(testing_file, sep='\\t', usecols=[0,1,2], names=train_df.columns)\n",
    "X_test = pd.Series(preprocess_texts(test_df.text), index=test_df.tweet_id)\n",
    "y_test = pd.Series(encode_labels(test_df.q1_label), index=test_df.tweet_id)\n",
    "test_df.head()"
   ]
  },
  {
   "cell_type": "markdown",
   "metadata": {},
   "source": [
    "## Inspect Data"
   ]
  },
  {
   "cell_type": "code",
   "execution_count": 8,
   "metadata": {},
   "outputs": [
    {
     "data": {
      "image/png": "[encoded data removed]",
      "text/plain": [
       "<Figure size 432x288 with 1 Axes>"
      ]
     },
     "metadata": {
      "needs_background": "light"
     },
     "output_type": "display_data"
    }
   ],
   "source": [
    "plt.title('Covid Tweets Class Probability Density Distribution')\n",
    "plt.xlabel('Class')\n",
    "plt.gca().set_xticks([1/4, 3/4])\n",
    "plt.gca().set_xticklabels(['no','yes'])\n",
    "plt.hist([train_df.q1_label, test_df.q1_label], bins=2, density=True, label=['train','test'])\n",
    "plt.legend()\n",
    "plt.savefig(IMG_DIR + '/class_dist')"
   ]
  },
  {
   "cell_type": "code",
   "execution_count": 9,
   "metadata": {},
   "outputs": [
    {
     "name": "stdout",
     "output_type": "stream",
     "text": [
      "Minimum length of tweets:  4\n"
     ]
    }
   ],
   "source": [
    "# Check for empty/too short tweets\n",
    "print('Minimum length of tweets: ', X_train.apply(len).min())"
   ]
  },
  {
   "cell_type": "code",
   "execution_count": 10,
   "metadata": {},
   "outputs": [
    {
     "data": {
      "text/plain": [
       "['no', 'yes']\n",
       "Categories (2, object): ['no', 'yes']"
      ]
     },
     "execution_count": 10,
     "metadata": {},
     "output_type": "execute_result"
    }
   ],
   "source": [
    "# Check for unknown classes\n",
    "y_train.unique()"
   ]
  },
  {
   "cell_type": "markdown",
   "metadata": {
    "cell_id": "00002-d959c6ec-70c9-46d6-a2b9-6742a522f60e",
    "deepnote_cell_type": "markdown",
    "output_cleared": false,
    "tags": []
   },
   "source": [
    "# Model"
   ]
  },
  {
   "cell_type": "code",
   "execution_count": 11,
   "metadata": {
    "cell_id": "00004-5ce81264-3066-410b-a8b2-28656d17eef1",
    "deepnote_cell_type": "code",
    "execution_millis": 187,
    "execution_start": 1607566386727,
    "output_cleared": false,
    "source_hash": "631a6844",
    "tags": []
   },
   "outputs": [
    {
     "data": {
      "text/plain": [
       "['no', 'yes']\n",
       "Categories (2, object): ['no', 'yes']"
      ]
     },
     "execution_count": 11,
     "metadata": {},
     "output_type": "execute_result"
    }
   ],
   "source": [
    "CLASSES = y_train.unique()\n",
    "CLASSES"
   ]
  },
  {
   "cell_type": "markdown",
   "metadata": {
    "cell_id": "00006-7631e98b-3264-4f96-8cb4-990c3651814b",
    "deepnote_cell_type": "markdown",
    "output_cleared": false,
    "tags": []
   },
   "source": [
    "## Build Vector Space Representation"
   ]
  },
  {
   "cell_type": "code",
   "execution_count": 12,
   "metadata": {
    "cell_id": "00007-098b2137-5c14-4bb8-83b7-7dcb087e4369",
    "deepnote_cell_type": "code",
    "execution_millis": 595,
    "execution_start": 1607566386987,
    "output_cleared": false,
    "source_hash": "c7534d19",
    "tags": []
   },
   "outputs": [
    {
     "data": {
      "text/html": [
       "<div>\n",
       "<style scoped>\n",
       "    .dataframe tbody tr th:only-of-type {\n",
       "        vertical-align: middle;\n",
       "    }\n",
       "\n",
       "    .dataframe tbody tr th {\n",
       "        vertical-align: top;\n",
       "    }\n",
       "\n",
       "    .dataframe thead th {\n",
       "        text-align: right;\n",
       "    }\n",
       "</style>\n",
       "<table border=\"1\" class=\"dataframe\">\n",
       "  <thead>\n",
       "    <tr style=\"text-align: right;\">\n",
       "      <th></th>\n",
       "      <th>obviously</th>\n",
       "      <th>ebolaâbut</th>\n",
       "      <th>34x</th>\n",
       "      <th>https://t.co/bcyoeedray</th>\n",
       "      <th>https://t.co/ga2rdghpiq</th>\n",
       "    </tr>\n",
       "    <tr>\n",
       "      <th>tweet_id</th>\n",
       "      <th></th>\n",
       "      <th></th>\n",
       "      <th></th>\n",
       "      <th></th>\n",
       "      <th></th>\n",
       "    </tr>\n",
       "  </thead>\n",
       "  <tbody>\n",
       "    <tr>\n",
       "      <th>1241025578527903750</th>\n",
       "      <td>0.0</td>\n",
       "      <td>0.0</td>\n",
       "      <td>0.0</td>\n",
       "      <td>0.0</td>\n",
       "      <td>0.0</td>\n",
       "    </tr>\n",
       "    <tr>\n",
       "      <th>1240467080954228737</th>\n",
       "      <td>0.0</td>\n",
       "      <td>0.0</td>\n",
       "      <td>0.0</td>\n",
       "      <td>0.0</td>\n",
       "      <td>0.0</td>\n",
       "    </tr>\n",
       "    <tr>\n",
       "      <th>1240716889162018816</th>\n",
       "      <td>0.0</td>\n",
       "      <td>0.0</td>\n",
       "      <td>0.0</td>\n",
       "      <td>0.0</td>\n",
       "      <td>0.0</td>\n",
       "    </tr>\n",
       "    <tr>\n",
       "      <th>1241062514886090754</th>\n",
       "      <td>0.0</td>\n",
       "      <td>0.0</td>\n",
       "      <td>0.0</td>\n",
       "      <td>0.0</td>\n",
       "      <td>0.0</td>\n",
       "    </tr>\n",
       "    <tr>\n",
       "      <th>1241447017945223169</th>\n",
       "      <td>0.0</td>\n",
       "      <td>0.0</td>\n",
       "      <td>0.0</td>\n",
       "      <td>0.0</td>\n",
       "      <td>0.0</td>\n",
       "    </tr>\n",
       "  </tbody>\n",
       "</table>\n",
       "</div>"
      ],
      "text/plain": [
       "                     obviously  ebolaâbut  34x  https://t.co/bcyoeedray  \\\n",
       "tweet_id                                                                    \n",
       "1241025578527903750        0.0          0.0  0.0                      0.0   \n",
       "1240467080954228737        0.0          0.0  0.0                      0.0   \n",
       "1240716889162018816        0.0          0.0  0.0                      0.0   \n",
       "1241062514886090754        0.0          0.0  0.0                      0.0   \n",
       "1241447017945223169        0.0          0.0  0.0                      0.0   \n",
       "\n",
       "                     https://t.co/ga2rdghpiq  \n",
       "tweet_id                                      \n",
       "1241025578527903750                      0.0  \n",
       "1240467080954228737                      0.0  \n",
       "1240716889162018816                      0.0  \n",
       "1241062514886090754                      0.0  \n",
       "1241447017945223169                      0.0  "
      ]
     },
     "execution_count": 12,
     "metadata": {},
     "output_type": "execute_result"
    }
   ],
   "source": [
    "from collections import Counter\n",
    "vec_space_df = pd.DataFrame(X_train.apply(Counter).tolist(), index=X_train.index).fillna(0)\n",
    "vec_space_df.iloc[:5,-5:]"
   ]
  },
  {
   "cell_type": "markdown",
   "metadata": {
    "cell_id": "00011-5395f15d-f0de-41a1-859d-84f1b41d89a6",
    "deepnote_cell_type": "markdown",
    "output_cleared": false,
    "tags": []
   },
   "source": [
    "## Class Probability"
   ]
  },
  {
   "cell_type": "code",
   "execution_count": 13,
   "metadata": {
    "cell_id": "00012-7fc43561-58f4-4471-83d8-128fd5441f9b",
    "deepnote_cell_type": "code",
    "execution_millis": 6,
    "execution_start": 1607566387626,
    "output_cleared": false,
    "source_hash": "3fa26d35",
    "tags": []
   },
   "outputs": [
    {
     "data": {
      "text/plain": [
       "yes   -0.208276\n",
       "no    -0.419129\n",
       "dtype: float64"
      ]
     },
     "execution_count": 13,
     "metadata": {},
     "output_type": "execute_result"
    }
   ],
   "source": [
    "class_log_prior = np.log10((y_train.value_counts()/len(y_train)))\n",
    "class_log_prior"
   ]
  },
  {
   "cell_type": "markdown",
   "metadata": {
    "cell_id": "00013-092aaf53-c4c5-40cd-8541-2d175d7fccb1",
    "deepnote_cell_type": "markdown",
    "output_cleared": false,
    "tags": []
   },
   "source": [
    "## Vocabulary Probability"
   ]
  },
  {
   "cell_type": "code",
   "execution_count": 14,
   "metadata": {},
   "outputs": [],
   "source": [
    "# P(w | c) = freq / total\n",
    "ov_word_freqs = pd.DataFrame(dtype=int)\n",
    "ov_word_totals = pd.Series(dtype=int)"
   ]
  },
  {
   "cell_type": "code",
   "execution_count": 15,
   "metadata": {},
   "outputs": [],
   "source": [
    "fv_word_freqs = pd.DataFrame(dtype=int)\n",
    "fv_word_totals = pd.Series(dtype=int)"
   ]
  },
  {
   "cell_type": "markdown",
   "metadata": {
    "cell_id": "00011-26e17033-db5d-4ed1-9635-9687641efb6c",
    "deepnote_cell_type": "markdown",
    "output_cleared": false,
    "tags": []
   },
   "source": [
    "### Count Words"
   ]
  },
  {
   "cell_type": "code",
   "execution_count": 16,
   "metadata": {
    "cell_id": "00008-42b6b335-cd2b-47b7-a2bf-cb817c75bcf1",
    "deepnote_cell_type": "code",
    "execution_millis": 32,
    "execution_start": 1607566387631,
    "output_cleared": false,
    "source_hash": "9130d032",
    "tags": []
   },
   "outputs": [
    {
     "name": "stdout",
     "output_type": "stream",
     "text": [
      "OV Word Frequencies\n",
      "                          no  yes\n",
      "for                       34   90\n",
      "the                      132  321\n",
      "average                    1    0\n",
      "american                   4    7\n",
      "best                       4    2\n",
      "...                      ...  ...\n",
      "obviously                  0    1\n",
      "ebolaâbut                0    1\n",
      "34x                        0    1\n",
      "https://t.co/bcyoeedray    0    1\n",
      "https://t.co/ga2rdghpiq    0    1\n",
      "\n",
      "[4304 rows x 2 columns]\n",
      "\n",
      "OV Word Totals\n",
      "no     3741\n",
      "yes    8844\n",
      "dtype: int32\n"
     ]
    }
   ],
   "source": [
    "for c in CLASSES:\n",
    "    # frequency per class c = sum all rows where target is c\n",
    "    ov_word_freqs[c] = vec_space_df[y_train==c].sum().astype(int)\n",
    "# total per class = sum all word freqs where target is c\n",
    "ov_word_totals = ov_word_freqs.sum().astype(int)\n",
    "print('OV Word Frequencies')\n",
    "print(ov_word_freqs)\n",
    "print('\\nOV Word Totals')\n",
    "print(ov_word_totals)"
   ]
  },
  {
   "cell_type": "code",
   "execution_count": 17,
   "metadata": {},
   "outputs": [
    {
     "name": "stdout",
     "output_type": "stream",
     "text": [
      "FV Word Frequencies\n",
      "              no  yes\n",
      "for           34   90\n",
      "the          132  321\n",
      "american       4    7\n",
      "best           4    2\n",
      "way            5    6\n",
      "...          ...  ...\n",
      "ng             0    2\n",
      "na             0    2\n",
      "60s.           0    2\n",
      "chloroquine    0    2\n",
      "rate.          0    2\n",
      "\n",
      "[1193 rows x 2 columns]\n",
      "\n",
      "FV Word Totals\n",
      "no     2833\n",
      "yes    6641\n",
      "dtype: int32\n"
     ]
    }
   ],
   "source": [
    "# fv: mask out words with frequency less than 2\n",
    "mask_less_than_2 = ov_word_freqs.sum(axis=1) >= 2\n",
    "\n",
    "fv_word_freqs = ov_word_freqs.loc[mask_less_than_2].copy()\n",
    "fv_word_totals = fv_word_freqs.sum().astype(int)\n",
    "\n",
    "print('FV Word Frequencies')\n",
    "print(fv_word_freqs)\n",
    "print('\\nFV Word Totals')\n",
    "print(fv_word_totals)"
   ]
  },
  {
   "cell_type": "markdown",
   "metadata": {
    "cell_id": "00008-4d44019f-5870-48cb-8ea5-83fef6266958",
    "deepnote_cell_type": "markdown",
    "output_cleared": false,
    "tags": []
   },
   "source": [
    "### Smoothing"
   ]
  },
  {
   "cell_type": "code",
   "execution_count": 18,
   "metadata": {
    "cell_id": "00008-1f34c01c-2b61-4bcf-9156-de2a803f44bd",
    "deepnote_cell_type": "code",
    "execution_millis": 2,
    "execution_start": 1607566387756,
    "output_cleared": false,
    "source_hash": "609fa49e",
    "tags": []
   },
   "outputs": [
    {
     "name": "stdout",
     "output_type": "stream",
     "text": [
      "OV Smoothed Word Totals\n",
      "no     3784.04\n",
      "yes    8887.04\n",
      "dtype: float64\n",
      "\n",
      "FV Smoothed Word Totals\n",
      "no     2844.93\n",
      "yes    6652.93\n",
      "dtype: float64\n"
     ]
    }
   ],
   "source": [
    "delta = 0.01\n",
    "ov_word_freqs += delta\n",
    "ov_word_totals += delta * len(ov_word_freqs)\n",
    "print('OV Smoothed Word Totals')\n",
    "print(ov_word_totals)\n",
    "\n",
    "fv_word_freqs += delta\n",
    "fv_word_totals += delta * len(fv_word_freqs)\n",
    "print('\\nFV Smoothed Word Totals')\n",
    "print(fv_word_totals)"
   ]
  },
  {
   "cell_type": "code",
   "execution_count": 19,
   "metadata": {},
   "outputs": [],
   "source": [
    "# unit testing\n",
    "assert(ov_word_totals['no'] == 3784.04)\n",
    "assert(fv_word_totals['no'] == 2844.93)"
   ]
  },
  {
   "cell_type": "markdown",
   "metadata": {
    "cell_id": "00018-91a91759-a584-4713-b2ce-d54f64b95247",
    "deepnote_cell_type": "markdown",
    "output_cleared": false,
    "tags": []
   },
   "source": [
    "### Word Probability"
   ]
  },
  {
   "cell_type": "code",
   "execution_count": 20,
   "metadata": {
    "cell_id": "00018-21760adf-4175-4311-bad7-a83b0c040e8c",
    "deepnote_cell_type": "code",
    "execution_millis": 1,
    "execution_start": 1607566387759,
    "output_cleared": false,
    "source_hash": "c7ae8906",
    "tags": []
   },
   "outputs": [],
   "source": [
    "ov_model = np.log10(ov_word_freqs / ov_word_totals)\n",
    "fv_model = np.log10(fv_word_freqs / fv_word_totals)"
   ]
  },
  {
   "cell_type": "markdown",
   "metadata": {
    "cell_id": "00024-557e5c83-cd9a-4eef-a78f-91fbed030627",
    "deepnote_cell_type": "markdown",
    "output_cleared": false,
    "tags": []
   },
   "source": [
    "# Prediction and Evaluation"
   ]
  },
  {
   "cell_type": "markdown",
   "metadata": {},
   "source": [
    "## Define Functions"
   ]
  },
  {
   "cell_type": "markdown",
   "metadata": {},
   "source": [
    "### Trace Files"
   ]
  },
  {
   "cell_type": "code",
   "execution_count": 21,
   "metadata": {},
   "outputs": [],
   "source": [
    "# implemented with pandas and numpy, see nb_bow_classifier.py\n",
    "from nb_bow_classifier import predict, trace_predict"
   ]
  },
  {
   "cell_type": "markdown",
   "metadata": {},
   "source": [
    "### Overall Evaluation Files"
   ]
  },
  {
   "cell_type": "code",
   "execution_count": 22,
   "metadata": {},
   "outputs": [],
   "source": [
    "# implemented with pandas, seaborn and matplotlib, see metrics.py\n",
    "from metrics import confusion_matrix, plot_confusion_matrix, eval_model"
   ]
  },
  {
   "cell_type": "markdown",
   "metadata": {},
   "source": [
    "## Evaluate"
   ]
  },
  {
   "cell_type": "markdown",
   "metadata": {},
   "source": [
    "### NB-BOW-OV Outputs"
   ]
  },
  {
   "cell_type": "code",
   "execution_count": 23,
   "metadata": {},
   "outputs": [
    {
     "data": {
      "text/html": [
       "<div>\n",
       "<style scoped>\n",
       "    .dataframe tbody tr th:only-of-type {\n",
       "        vertical-align: middle;\n",
       "    }\n",
       "\n",
       "    .dataframe tbody tr th {\n",
       "        vertical-align: top;\n",
       "    }\n",
       "\n",
       "    .dataframe thead th {\n",
       "        text-align: right;\n",
       "    }\n",
       "</style>\n",
       "<table border=\"1\" class=\"dataframe\">\n",
       "  <thead>\n",
       "    <tr style=\"text-align: right;\">\n",
       "      <th></th>\n",
       "      <th>y_pred</th>\n",
       "      <th>score</th>\n",
       "      <th>y_true</th>\n",
       "      <th>verdict</th>\n",
       "    </tr>\n",
       "    <tr>\n",
       "      <th>tweet_id</th>\n",
       "      <th></th>\n",
       "      <th></th>\n",
       "      <th></th>\n",
       "      <th></th>\n",
       "    </tr>\n",
       "  </thead>\n",
       "  <tbody>\n",
       "    <tr>\n",
       "      <th>1236932313642143745</th>\n",
       "      <td>no</td>\n",
       "      <td>-93.337704</td>\n",
       "      <td>no</td>\n",
       "      <td>correct</td>\n",
       "    </tr>\n",
       "    <tr>\n",
       "      <th>1236289649737371648</th>\n",
       "      <td>yes</td>\n",
       "      <td>-32.975585</td>\n",
       "      <td>yes</td>\n",
       "      <td>correct</td>\n",
       "    </tr>\n",
       "    <tr>\n",
       "      <th>1237501242567544835</th>\n",
       "      <td>yes</td>\n",
       "      <td>-105.332263</td>\n",
       "      <td>no</td>\n",
       "      <td>wrong</td>\n",
       "    </tr>\n",
       "    <tr>\n",
       "      <th>1237029903112888321</th>\n",
       "      <td>yes</td>\n",
       "      <td>-67.937261</td>\n",
       "      <td>no</td>\n",
       "      <td>wrong</td>\n",
       "    </tr>\n",
       "    <tr>\n",
       "      <th>1237270988334592001</th>\n",
       "      <td>yes</td>\n",
       "      <td>-47.230059</td>\n",
       "      <td>yes</td>\n",
       "      <td>correct</td>\n",
       "    </tr>\n",
       "  </tbody>\n",
       "</table>\n",
       "</div>"
      ],
      "text/plain": [
       "                    y_pred       score y_true  verdict\n",
       "tweet_id                                              \n",
       "1236932313642143745     no  -93.337704     no  correct\n",
       "1236289649737371648    yes  -32.975585    yes  correct\n",
       "1237501242567544835    yes -105.332263     no    wrong\n",
       "1237029903112888321    yes  -67.937261     no    wrong\n",
       "1237270988334592001    yes  -47.230059    yes  correct"
      ]
     },
     "execution_count": 23,
     "metadata": {},
     "output_type": "execute_result"
    }
   ],
   "source": [
    "# produce OV trace file\n",
    "ov_trace = trace_predict(ov_model, class_log_prior, X_test, y_test, OUTPUT_DIR + '/trace_NB-BOW-OV.txt')\n",
    "ov_trace.head()"
   ]
  },
  {
   "cell_type": "code",
   "execution_count": 24,
   "metadata": {},
   "outputs": [
    {
     "data": {
      "text/html": [
       "<div>\n",
       "<style scoped>\n",
       "    .dataframe tbody tr th:only-of-type {\n",
       "        vertical-align: middle;\n",
       "    }\n",
       "\n",
       "    .dataframe tbody tr th {\n",
       "        vertical-align: top;\n",
       "    }\n",
       "\n",
       "    .dataframe thead th {\n",
       "        text-align: right;\n",
       "    }\n",
       "</style>\n",
       "<table border=\"1\" class=\"dataframe\">\n",
       "  <thead>\n",
       "    <tr style=\"text-align: right;\">\n",
       "      <th></th>\n",
       "      <th>accuracy</th>\n",
       "      <th>precision</th>\n",
       "      <th>recall</th>\n",
       "      <th>f1</th>\n",
       "    </tr>\n",
       "  </thead>\n",
       "  <tbody>\n",
       "    <tr>\n",
       "      <th>yes</th>\n",
       "      <td>0.672727</td>\n",
       "      <td>0.666667</td>\n",
       "      <td>0.909091</td>\n",
       "      <td>0.769231</td>\n",
       "    </tr>\n",
       "    <tr>\n",
       "      <th>no</th>\n",
       "      <td>0.672727</td>\n",
       "      <td>0.700000</td>\n",
       "      <td>0.318182</td>\n",
       "      <td>0.437500</td>\n",
       "    </tr>\n",
       "  </tbody>\n",
       "</table>\n",
       "</div>"
      ],
      "text/plain": [
       "     accuracy  precision    recall        f1\n",
       "yes  0.672727   0.666667  0.909091  0.769231\n",
       "no   0.672727   0.700000  0.318182  0.437500"
      ]
     },
     "execution_count": 24,
     "metadata": {},
     "output_type": "execute_result"
    }
   ],
   "source": [
    "# evaluate OV model performance\n",
    "eval_model(ov_trace.y_true, ov_trace.y_pred, OUTPUT_DIR + '/eval_NB-BOW-OV.txt')"
   ]
  },
  {
   "cell_type": "code",
   "execution_count": 25,
   "metadata": {},
   "outputs": [
    {
     "data": {
      "image/png": "[encoded data removed]",
      "text/plain": [
       "<Figure size 432x288 with 2 Axes>"
      ]
     },
     "metadata": {
      "needs_background": "light"
     },
     "output_type": "display_data"
    }
   ],
   "source": [
    "# plot OV confusion matrix\n",
    "plot_confusion_matrix(ov_trace.y_true, ov_trace.y_pred)\n",
    "plt.title('OV Model Confusion Matrix')\n",
    "plt.savefig(IMG_DIR + '/ov_conf_mat')"
   ]
  },
  {
   "cell_type": "markdown",
   "metadata": {},
   "source": [
    "### NB-BOW-FV Outputs"
   ]
  },
  {
   "cell_type": "code",
   "execution_count": 26,
   "metadata": {
    "cell_id": "00024-3d958ee4-691f-4c52-8e7b-b386e552f34c",
    "deepnote_cell_type": "code",
    "execution_millis": 103,
    "execution_start": 1607566387779,
    "output_cleared": false,
    "source_hash": "3a94561c",
    "tags": []
   },
   "outputs": [
    {
     "data": {
      "text/html": [
       "<div>\n",
       "<style scoped>\n",
       "    .dataframe tbody tr th:only-of-type {\n",
       "        vertical-align: middle;\n",
       "    }\n",
       "\n",
       "    .dataframe tbody tr th {\n",
       "        vertical-align: top;\n",
       "    }\n",
       "\n",
       "    .dataframe thead th {\n",
       "        text-align: right;\n",
       "    }\n",
       "</style>\n",
       "<table border=\"1\" class=\"dataframe\">\n",
       "  <thead>\n",
       "    <tr style=\"text-align: right;\">\n",
       "      <th></th>\n",
       "      <th>y_pred</th>\n",
       "      <th>score</th>\n",
       "      <th>y_true</th>\n",
       "      <th>verdict</th>\n",
       "    </tr>\n",
       "    <tr>\n",
       "      <th>tweet_id</th>\n",
       "      <th></th>\n",
       "      <th></th>\n",
       "      <th></th>\n",
       "      <th></th>\n",
       "    </tr>\n",
       "  </thead>\n",
       "  <tbody>\n",
       "    <tr>\n",
       "      <th>1236932313642143745</th>\n",
       "      <td>yes</td>\n",
       "      <td>-70.447123</td>\n",
       "      <td>no</td>\n",
       "      <td>wrong</td>\n",
       "    </tr>\n",
       "    <tr>\n",
       "      <th>1236289649737371648</th>\n",
       "      <td>yes</td>\n",
       "      <td>-27.522219</td>\n",
       "      <td>yes</td>\n",
       "      <td>correct</td>\n",
       "    </tr>\n",
       "    <tr>\n",
       "      <th>1237501242567544835</th>\n",
       "      <td>yes</td>\n",
       "      <td>-89.033702</td>\n",
       "      <td>no</td>\n",
       "      <td>wrong</td>\n",
       "    </tr>\n",
       "    <tr>\n",
       "      <th>1237029903112888321</th>\n",
       "      <td>yes</td>\n",
       "      <td>-61.352197</td>\n",
       "      <td>no</td>\n",
       "      <td>wrong</td>\n",
       "    </tr>\n",
       "    <tr>\n",
       "      <th>1237270988334592001</th>\n",
       "      <td>yes</td>\n",
       "      <td>-37.455025</td>\n",
       "      <td>yes</td>\n",
       "      <td>correct</td>\n",
       "    </tr>\n",
       "  </tbody>\n",
       "</table>\n",
       "</div>"
      ],
      "text/plain": [
       "                    y_pred      score y_true  verdict\n",
       "tweet_id                                             \n",
       "1236932313642143745    yes -70.447123     no    wrong\n",
       "1236289649737371648    yes -27.522219    yes  correct\n",
       "1237501242567544835    yes -89.033702     no    wrong\n",
       "1237029903112888321    yes -61.352197     no    wrong\n",
       "1237270988334592001    yes -37.455025    yes  correct"
      ]
     },
     "execution_count": 26,
     "metadata": {},
     "output_type": "execute_result"
    }
   ],
   "source": [
    "# produce FV trace file\n",
    "fv_trace = trace_predict(fv_model, class_log_prior, X_test, y_test, OUTPUT_DIR + '/trace_NB-BOW-FV.txt')\n",
    "fv_trace.head()"
   ]
  },
  {
   "cell_type": "code",
   "execution_count": 27,
   "metadata": {},
   "outputs": [
    {
     "data": {
      "text/html": [
       "<div>\n",
       "<style scoped>\n",
       "    .dataframe tbody tr th:only-of-type {\n",
       "        vertical-align: middle;\n",
       "    }\n",
       "\n",
       "    .dataframe tbody tr th {\n",
       "        vertical-align: top;\n",
       "    }\n",
       "\n",
       "    .dataframe thead th {\n",
       "        text-align: right;\n",
       "    }\n",
       "</style>\n",
       "<table border=\"1\" class=\"dataframe\">\n",
       "  <thead>\n",
       "    <tr style=\"text-align: right;\">\n",
       "      <th></th>\n",
       "      <th>accuracy</th>\n",
       "      <th>precision</th>\n",
       "      <th>recall</th>\n",
       "      <th>f1</th>\n",
       "    </tr>\n",
       "  </thead>\n",
       "  <tbody>\n",
       "    <tr>\n",
       "      <th>yes</th>\n",
       "      <td>0.745455</td>\n",
       "      <td>0.720930</td>\n",
       "      <td>0.939394</td>\n",
       "      <td>0.815789</td>\n",
       "    </tr>\n",
       "    <tr>\n",
       "      <th>no</th>\n",
       "      <td>0.745455</td>\n",
       "      <td>0.833333</td>\n",
       "      <td>0.454545</td>\n",
       "      <td>0.588235</td>\n",
       "    </tr>\n",
       "  </tbody>\n",
       "</table>\n",
       "</div>"
      ],
      "text/plain": [
       "     accuracy  precision    recall        f1\n",
       "yes  0.745455   0.720930  0.939394  0.815789\n",
       "no   0.745455   0.833333  0.454545  0.588235"
      ]
     },
     "execution_count": 27,
     "metadata": {},
     "output_type": "execute_result"
    }
   ],
   "source": [
    "# evaluate FV model performance\n",
    "eval_model(fv_trace.y_true, fv_trace.y_pred, OUTPUT_DIR + '/eval_NB-BOW-FV.txt')"
   ]
  },
  {
   "cell_type": "code",
   "execution_count": 28,
   "metadata": {},
   "outputs": [
    {
     "data": {
      "image/png": "[encoded data removed]",
      "text/plain": [
       "<Figure size 432x288 with 2 Axes>"
      ]
     },
     "metadata": {
      "needs_background": "light"
     },
     "output_type": "display_data"
    }
   ],
   "source": [
    "# plot FV confusion matrix\n",
    "plot_confusion_matrix(fv_trace.y_true, fv_trace.y_pred)\n",
    "plt.title('FV Model Confusion Matrix')\n",
    "plt.savefig(IMG_DIR + '/fv_conf_mat')"
   ]
  },
  {
   "cell_type": "markdown",
   "metadata": {},
   "source": [
    "### Evaluate LSTM-W2V model"
   ]
  },
  {
   "cell_type": "code",
   "execution_count": 29,
   "metadata": {},
   "outputs": [
    {
     "name": "stdout",
     "output_type": "stream",
     "text": [
      "     accuracy  precision    recall        f1\n",
      "yes  0.763636   0.738095  0.939394  0.826667\n",
      "no   0.763636   0.846154  0.500000  0.628571\n"
     ]
    },
    {
     "data": {
      "image/png": "[encoded data removed]",
      "text/plain": [
       "<Figure size 432x288 with 2 Axes>"
      ]
     },
     "metadata": {
      "needs_background": "light"
     },
     "output_type": "display_data"
    }
   ],
   "source": [
    "if (Path.cwd() / OUTPUT_DIR / 'trace_LSTM.txt').exists():\n",
    "    lstm_trace = pd.read_csv(OUTPUT_DIR + '/trace_LSTM.txt', sep='  ', names=fv_trace.columns, index_col=0, engine='python')\n",
    "    \n",
    "    # evaluate LSTM-W2V model performance\n",
    "    lstm_eval = eval_model(lstm_trace.y_true, lstm_trace.y_pred, OUTPUT_DIR + '/eval_LSTM.txt')\n",
    "    print(lstm_eval)\n",
    "    \n",
    "    # plot FV confusion matrix\n",
    "    plot_confusion_matrix(lstm_trace.y_true, lstm_trace.y_pred)\n",
    "    plt.title('LSTM-W2V Model Confusion Matrix')\n",
    "    plt.savefig(IMG_DIR + '/lstm_conf_mat')\n",
    "    plt.show()"
   ]
  }
 ],
 "metadata": {
  "deepnote_execution_queue": [],
  "deepnote_notebook_id": "8f09b2e7-2038-4bbc-a7ed-19eebe967e7f",
  "kernelspec": {
   "display_name": "Python 3",
   "language": "python",
   "name": "python3"
  },
  "language_info": {
   "codemirror_mode": {
    "name": "ipython",
    "version": 3
   },
   "file_extension": ".py",
   "mimetype": "text/x-python",
   "name": "python",
   "nbconvert_exporter": "python",
   "pygments_lexer": "ipython3",
   "version": "3.8.5"
  },
  "toc-autonumbering": true,
  "toc-showmarkdowntxt": false
 },
 "nbformat": 4,
 "nbformat_minor": 4
}
